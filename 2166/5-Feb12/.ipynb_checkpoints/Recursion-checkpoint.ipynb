{
 "cells": [
  {
   "cell_type": "markdown",
   "metadata": {},
   "source": [
    "# Some Basic Recursive Algorithms\n",
    "Sometimes the solution to a problem with a given set of inputs can be reduced to the solution to the same problem but with smaller input values. The following are all examples of such problems. \n",
    "\n",
    "> We call an algorithm recursive if it solves a problem by reducing it to an instance of the same problem with smaller input values. \n",
    "\n",
    "### Example 1 (Section 5.4): A Recursive Algorithm for Computing n Factorial"
   ]
  },
  {
   "cell_type": "code",
   "execution_count": 1,
   "metadata": {
    "collapsed": false
   },
   "outputs": [
    {
     "name": "stdout",
     "output_type": "stream",
     "text": [
      "factorial of 5:    120\n",
      "factorial of 10:   3628800\n",
      "factorial of 50:   30414093201713378043612608166064768844377641568960512000000000000\n",
      "factorial of 70:   11978571669969891796072783721689098736458938142546425857555362864628009582789845319680000000000000000\n"
     ]
    }
   ],
   "source": [
    "def factorial(n):\n",
    "  if n == 0:\n",
    "    return 1\n",
    "  else:\n",
    "    return n * factorial(n-1)\n",
    "\n",
    "print \"factorial of 5:   \", factorial(5)\n",
    "print \"factorial of 10:  \", factorial(10)\n",
    "print \"factorial of 50:  \", factorial(50)\n",
    "print \"factorial of 70:  \", factorial(70)"
   ]
  },
  {
   "cell_type": "markdown",
   "metadata": {},
   "source": [
    "### Example 2 (Section 5.4): A Recursive Algorithm for Computing Powers"
   ]
  },
  {
   "cell_type": "code",
   "execution_count": 2,
   "metadata": {
    "collapsed": false
   },
   "outputs": [
    {
     "name": "stdout",
     "output_type": "stream",
     "text": [
      "2 to the power of 10:   1024\n",
      "3 to the power of 7:    2187\n",
      "2 to the power of 100:  1267650600228229401496703205376\n"
     ]
    }
   ],
   "source": [
    "def power(a, n):\n",
    "  \"\"\"Compute the value x**n for integer n.\"\"\"\n",
    "  if n == 0:\n",
    "    return 1\n",
    "  else:\n",
    "    return a * power(a, n-1)\n",
    "\n",
    "print \"2 to the power of 10:  \", power(2, 10)\n",
    "print \"3 to the power of 7:   \", power(3, 7)\n",
    "print \"2 to the power of 100: \", power(2, 100)"
   ]
  },
  {
   "cell_type": "markdown",
   "metadata": {},
   "source": [
    "### Example 3 (Known as a Progrmming Interview Question): Reversing a Sequence with Recursion"
   ]
  },
  {
   "cell_type": "code",
   "execution_count": 3,
   "metadata": {
    "collapsed": false
   },
   "outputs": [
    {
     "name": "stdout",
     "output_type": "stream",
     "text": [
      "Initial sequence:               [32, 2, 16, 4, 8, 101, 202, 303]\n",
      "Recursively reversed sequence:  [303, 202, 101, 8, 4, 16, 2, 32]\n"
     ]
    }
   ],
   "source": [
    "def reverse(S, first, last):\n",
    "  \"\"\"Reverse elements in implicit slice S[first:last].\"\"\"\n",
    "  if first < last - 1:                           # if at least 2 elements,\n",
    "    S[first], S[last-1] = S[last-1], S[first]    # exchange the first and the last\n",
    "    reverse(S, first+1, last-1)                  # then recurse \n",
    "    \n",
    "S = [32, 2, 16, 4, 8, 101, 202, 303]\n",
    "print \"Initial sequence:              \", S\n",
    "reverse(S, 0, len(S))\n",
    "print \"Recursively reversed sequence: \", S"
   ]
  },
  {
   "cell_type": "markdown",
   "metadata": {},
   "source": [
    "### Example 4 (Known as a Progrmming Interview Question): Reversing a Sequence Iteratively"
   ]
  },
  {
   "cell_type": "code",
   "execution_count": 4,
   "metadata": {
    "collapsed": false
   },
   "outputs": [
    {
     "name": "stdout",
     "output_type": "stream",
     "text": [
      "Initial sequence:               [32, 2, 16, 4, 8, 101, 202, 303]\n",
      "Iteratively reversed sequence:  [303, 202, 101, 8, 4, 16, 2, 32]\n"
     ]
    }
   ],
   "source": [
    "def reverse_iterative(S):\n",
    "  \"\"\"Reverse elements in sequence S.\"\"\"\n",
    "  first, last = 0, len(S)\n",
    "  while first < last - 1:\n",
    "    S[first], S[last-1] = S[last-1], S[first]  # swap first and last\n",
    "    first, last = first + 1, last - 1          # narrow the range\n",
    "    \n",
    "S = [32, 2, 16, 4, 8, 101, 202, 303]\n",
    "print \"Initial sequence:              \", S\n",
    "reverse_iterative(S)\n",
    "print \"Iteratively reversed sequence: \", S"
   ]
  },
  {
   "cell_type": "markdown",
   "metadata": {},
   "source": [
    "### Note on Tail Recursive Algorithms\n",
    "\n",
    "(Examples in this and the next section are from the book *Data Structures and Algorthims in Python*)\n",
    "\n",
    "As an aside, the recursive algorithm for reversing the sequence is tail-recursive, meaning that any recursive call made from one context is the very last operation in that context, with the return value of the recursive call (if any) immediately returned by the enclosing recursion. An examle of *non*-tail-recursive algorthm is the `factorial` function above. It is non-tail-recursive because of the additional multiplication by $n$ in the `return n * factorial(n-1)` call. This multiplication is carried out *after* the recursive call is completed.  \n",
    "\n",
    "Any tail-recursion can be reimplemented nonrecursively by enclosing the body in a loop for repetition, and replacing a recursive call with new parameters by a reassignment of the existing parameters to those values.\n",
    "\n",
    "We show this for the tail recursive algorithm for `binary_search`. We give both recursive and iterative implementations.  \n",
    "\n",
    "### Example 5: Binary Search Again"
   ]
  },
  {
   "cell_type": "code",
   "execution_count": 5,
   "metadata": {
    "collapsed": false
   },
   "outputs": [
    {
     "name": "stdout",
     "output_type": "stream",
     "text": [
      "\n",
      "Given the sequence S:  [2, 4, 5, 7, 8, 9, 12, 14, 17, 19, 22, 25, 27, 28, 33, 37]\n",
      "\n",
      "Element 22 is found in sequence S?  True\n",
      "Element 6 is found in sequence S?   False\n",
      "\n",
      "Performing the search iteratively...\n",
      "\n",
      "Element 22 is found in sequence S?  True\n",
      "Element 6 is found in sequence S?   False\n",
      "\n"
     ]
    }
   ],
   "source": [
    "def binary_search(data, target, low, high):\n",
    "  \"\"\"Return True if target is found in indicated portion of a Python list.\n",
    "\n",
    "  The search only considers the portion from data[low] to data[high] inclusive.\n",
    "  \"\"\"\n",
    "  if low > high:\n",
    "    return False                    # interval is empty; no match\n",
    "  else:\n",
    "    mid = (low + high) // 2\n",
    "    if target == data[mid]:         # found a match\n",
    "      return True\n",
    "    elif target < data[mid]:\n",
    "      # recur on the portion left of the middle\n",
    "      return binary_search(data, target, low, mid - 1)\n",
    "    else:\n",
    "      # recur on the portion right of the middle\n",
    "      return binary_search(data, target, mid + 1, high)\n",
    "    \n",
    "    \n",
    "def binary_search_iterative(data, target):\n",
    "  \"\"\"Return True if target is found in the given Python list.\"\"\"\n",
    "  low = 0\n",
    "  high = len(data)-1\n",
    "  while low <= high:\n",
    "    mid = (low + high) // 2\n",
    "    if target == data[mid]:         # found a match\n",
    "      return True\n",
    "    elif target < data[mid]:\n",
    "      high = mid - 1                # only consider values left of mid\n",
    "    else:\n",
    "      low = mid + 1                 # only consider values right of mid\n",
    "  return False                      # loop ended without success    \n",
    "\n",
    "\n",
    "S = [2, 4, 5, 7, 8, 9, 12, 14, 17, 19, 22, 25, 27, 28, 33, 37]\n",
    "print \"\\nGiven the sequence S: \", S; print \n",
    "print \"Element 22 is found in sequence S? \", binary_search(S, 22, 0, len(S)); \n",
    "print \"Element 6 is found in sequence S?  \", binary_search(S, 6, 0, len(S)); print \n",
    "print \"Performing the search iteratively...\"; print\n",
    "print \"Element 22 is found in sequence S? \", binary_search_iterative(S, 22)\n",
    "print \"Element 6 is found in sequence S?  \", binary_search_iterative(S, 6); print "
   ]
  },
  {
   "cell_type": "markdown",
   "metadata": {
    "collapsed": true
   },
   "source": [
    "### Example 6 (Question 8, Section 5.4), A Recursive Algorithm for Finding the Sum of the First n Integers"
   ]
  },
  {
   "cell_type": "code",
   "execution_count": 6,
   "metadata": {
    "collapsed": false
   },
   "outputs": [
    {
     "name": "stdout",
     "output_type": "stream",
     "text": [
      "Given the sequence of numbers:  [32, 2, 16, 4, 8, 101, 202, 303]\n",
      "The sum of the first 2 elements:  34\n",
      "The sum of the first 3 elements:  50\n",
      "The sum of the first 4 elements:  54\n",
      "The sum of the first 5 elements:  62\n",
      "The sum of the first 8 elements:  668\n"
     ]
    }
   ],
   "source": [
    "def linear_sum(S, n):\n",
    "  \"\"\"Return the sum of the first n numbers of sequence S.\"\"\"\n",
    "  if n == 0:\n",
    "    return 0\n",
    "  else:\n",
    "    return linear_sum(S, n-1) + S[n-1]\n",
    "\n",
    "S = [32, 2, 16, 4, 8, 101, 202, 303]\n",
    "print \"Given the sequence of numbers: \", S\n",
    "print \"The sum of the first 2 elements: \", linear_sum(S, 2)\n",
    "print \"The sum of the first 3 elements: \", linear_sum(S, 3)\n",
    "print \"The sum of the first 4 elements: \", linear_sum(S, 4)\n",
    "print \"The sum of the first 5 elements: \", linear_sum(S, 5)\n",
    "print \"The sum of the first 8 elements: \", linear_sum(S, 8)"
   ]
  },
  {
   "cell_type": "markdown",
   "metadata": {},
   "source": [
    "### Example 7 (Question 10, Section 5.4), A Recursive Algorithm for Finding the Maximum in a Sequence of Ints"
   ]
  },
  {
   "cell_type": "code",
   "execution_count": 7,
   "metadata": {
    "collapsed": false
   },
   "outputs": [
    {
     "name": "stdout",
     "output_type": "stream",
     "text": [
      "Max in S1:  303\n",
      "Max in S2:  404\n",
      "Max in S3:  560\n"
     ]
    }
   ],
   "source": [
    "def max_recursive(S):\n",
    "    if len(S) == 1:\n",
    "        return S[0]\n",
    "    else:\n",
    "        m = max_recursive(S[:-1])\n",
    "        if m > S[-1]:\n",
    "            return m\n",
    "        else:\n",
    "            return S[-1]\n",
    "\n",
    "S1 = [32, 2, 16, 4, 8, 101, 202, 303]\n",
    "print \"Max in S1: \", max_recursive(S1)\n",
    "\n",
    "S2 = [1, 404, 50, 2, 33, 56, 22]\n",
    "print \"Max in S2: \", max_recursive(S2)\n",
    "\n",
    "S3 = [10, 404, 50, 2, 33, 560, 22]\n",
    "print \"Max in S3: \", max_recursive(S3)"
   ]
  },
  {
   "cell_type": "markdown",
   "metadata": {},
   "source": [
    "### Proving Recursive Algorithms to be Correct\n",
    "How would one prove that the recursive algorithm for finding the sum of the first positive integers, for example, is correct? (Example 6). The argument can go like this: *Basis Step:* The sum of the first positive integer is 1, which is the answer the algorithm returns when n = 1 and the sequence `S = [1, 2, 3, ..., n]` is passed to it. *Inductive Step:* Now assume the algorithm is correct for `n = k`. If `n = k + 1`, the the `else` clause in the algorithm is executed and the `k + 1`-st integer is added to the sum of the first `k` integers, which is assumed to be correct. Therefore, the algorithm correctly finds the sum of the first `k + 1` integers. "
   ]
  }
 ],
 "metadata": {
  "kernelspec": {
   "display_name": "Python 2",
   "language": "python",
   "name": "python2"
  },
  "language_info": {
   "codemirror_mode": {
    "name": "ipython",
    "version": 2
   },
   "file_extension": ".py",
   "mimetype": "text/x-python",
   "name": "python",
   "nbconvert_exporter": "python",
   "pygments_lexer": "ipython2",
   "version": "2.7.11"
  }
 },
 "nbformat": 4,
 "nbformat_minor": 0
}
